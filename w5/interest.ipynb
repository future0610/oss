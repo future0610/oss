{
 "cells": [
  {
   "cell_type": "code",
   "execution_count": null,
   "metadata": {},
   "outputs": [],
   "source": [
    "# https://deepcell.kr/bbs/board.php?bo_table=coding&wr_id=11\n",
    "\n",
    "# 복리 계산 함수, 수학 잘 모르고 프로그램만 하는 사람이 만든 것\n",
    "def compound_inter_loop(principal, cir, n):\n",
    "    sum = principal\n",
    "    for i in range(1, n + 1) :\n",
    "        sum = sum * (1 + cir) # 1년 후 원리금 : 전년 원리금 곱하기 이율\n",
    "    return sum"
   ]
  },
  {
   "cell_type": "code",
   "execution_count": null,
   "metadata": {},
   "outputs": [],
   "source": [
    "principal = 1000000 # 원금\n",
    "cir = 0.05 # 연이율\n",
    "n = 20 # 예치기간\n",
    "\n",
    "print(format(round(compound_inter_loop(principal, cir, n)), ','))"
   ]
  },
  {
   "cell_type": "code",
   "execution_count": null,
   "metadata": {},
   "outputs": [],
   "source": [
    "# geometric sequence\n",
    "\n",
    "# 수학 좀 하는 사람이 등비수열의 n번째 항 공식으로 만든 것\n",
    "# a*r**(n-1)\n",
    "def compound_inter_geo_seq(principal, cir, n):\n",
    "    sum = principal * (1 + cir)**n # 입금 시점부터 n년 후면 n + 1 번째 항\n",
    "    return sum"
   ]
  },
  {
   "cell_type": "code",
   "execution_count": null,
   "metadata": {},
   "outputs": [],
   "source": [
    "principal = 1000000 # 원금\n",
    "cir = 0.05 # 연이율\n",
    "n = 10 # 예치기간\n",
    "\n",
    "sum = compound_inter_geo_seq(principal, cir, n)\n",
    "print(format(round(sum),','))"
   ]
  },
  {
   "cell_type": "code",
   "execution_count": null,
   "metadata": {},
   "outputs": [],
   "source": [
    "# 복리로 적금, 매년초에 백이십만원씩 입금, 10년 후 연말\n",
    "# 복리가 등비 수열이므로 등비수열의 합의 공식으로 계산\n",
    "# sn = a*(r**n - 1)/(r - 1)\n",
    "\n",
    "def compound_install(yearly, cir, n):\n",
    "    sum = yearly * ((1 + cir)**n -1)/cir\n",
    "    return sum"
   ]
  },
  {
   "cell_type": "code",
   "execution_count": null,
   "metadata": {},
   "outputs": [],
   "source": [
    "yearly = 1200000 # 년 적금액\n",
    "cir = 0.05 # 연이율\n",
    "n = 10 # 적금 기간\n",
    "\n",
    "sum = compound_install(yearly, cir, n)\n",
    "print(format(round(sum),','))"
   ]
  },
  {
   "cell_type": "code",
   "execution_count": null,
   "metadata": {},
   "outputs": [],
   "source": [
    "# 매월 10만원씩 10년 적금\n",
    "\n",
    "monthly = 100000 # 월 적금액\n",
    "cir = 0.05 / 12 # 연이율\n",
    "n = 10 * 12 # 적금 기간\n",
    "\n",
    "sum = compound_install(monthly, cir, n)\n",
    "print(format(round(sum),','))"
   ]
  }
 ],
 "metadata": {
  "language_info": {
   "name": "python"
  },
  "orig_nbformat": 4
 },
 "nbformat": 4,
 "nbformat_minor": 2
}
