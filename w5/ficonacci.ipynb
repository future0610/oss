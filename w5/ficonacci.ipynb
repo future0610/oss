{
 "cells": [
  {
   "cell_type": "code",
   "execution_count": null,
   "metadata": {},
   "outputs": [],
   "source": [
    "# https://deepcell.kr/bbs/board.php?bo_table=coding&wr_id=11\n",
    "\n",
    "n = 5\n",
    "\n",
    "fibo = [] # 피보나치 수를 담을 빈 리스트를 하나 만듬.\n",
    "for i in range(n) : \n",
    "    if i == 0 :\n",
    "        fibo.append(1)\n",
    "    elif i == 1 :\n",
    "        fibo.append(1)\n",
    "    else :\n",
    "        f_i = fibo[i - 2] + fibo[i - 1]\n",
    "        fibo.append(f_i)"
   ]
  },
  {
   "cell_type": "code",
   "execution_count": null,
   "metadata": {},
   "outputs": [],
   "source": [
    "fibo"
   ]
  },
  {
   "cell_type": "code",
   "execution_count": null,
   "metadata": {},
   "outputs": [],
   "source": [
    "def fibo_func(n):\n",
    "    fibo_list = []\n",
    "    for i in range(n) : \n",
    "        if i == 0 :\n",
    "            fibo_list.append(1)\n",
    "        elif i == 1 :\n",
    "            fibo_list.append(1)\n",
    "        else :\n",
    "            f_i = fibo_list[i - 2] + fibo_list[i - 1]\n",
    "            fibo_list.append(f_i)\n",
    "    return fibo_list"
   ]
  },
  {
   "cell_type": "code",
   "execution_count": null,
   "metadata": {},
   "outputs": [],
   "source": [
    "fibo_func(7)"
   ]
  }
 ],
 "metadata": {
  "language_info": {
   "name": "python"
  },
  "orig_nbformat": 4
 },
 "nbformat": 4,
 "nbformat_minor": 2
}
